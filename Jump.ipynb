{
 "cells": [
  {
   "cell_type": "markdown",
   "metadata": {},
   "source": [
    "---\n",
    "Detecting jump pose in a video using Mediapipe\n",
    "---\n",
    "<h3>Author : Anoop Reddy Kallem\n",
    "<h3>Date : 09-04-2024\n",
    "<h3>Program/Branch : B.Tech Computer Science and Engineering (Specialisation in Data Science)"
   ]
  },
  {
   "cell_type": "code",
   "execution_count": null,
   "metadata": {},
   "outputs": [],
   "source": [
    "!pip install cv2\n",
    "!pip install mediapipe\n"
   ]
  },
  {
   "cell_type": "code",
   "execution_count": 2,
   "metadata": {},
   "outputs": [
    {
     "name": "stdout",
     "output_type": "stream",
     "text": [
      "WARNING:tensorflow:From C:\\Users\\kalle\\AppData\\Local\\Packages\\PythonSoftwareFoundation.Python.3.10_qbz5n2kfra8p0\\LocalCache\\local-packages\\Python310\\site-packages\\keras\\src\\losses.py:2976: The name tf.losses.sparse_softmax_cross_entropy is deprecated. Please use tf.compat.v1.losses.sparse_softmax_cross_entropy instead.\n",
      "\n"
     ]
    }
   ],
   "source": [
    "import cv2\n",
    "import mediapipe as mp\n",
    "import numpy as np\n",
    "from time import time\n"
   ]
  },
  {
   "cell_type": "markdown",
   "metadata": {},
   "source": [
    "\n",
    "**Initialising Mediapose class**\n"
   ]
  },
  {
   "cell_type": "code",
   "execution_count": 3,
   "metadata": {},
   "outputs": [],
   "source": [
    "mp_pose = mp.solutions.pose\n",
    "pose = mp_pose.Pose(static_image_mode=False, min_detection_confidence=0.3, model_complexity=2)"
   ]
  },
  {
   "cell_type": "markdown",
   "metadata": {},
   "source": [
    "**Initialise jump detection variables**"
   ]
  },
  {
   "cell_type": "code",
   "execution_count": 4,
   "metadata": {},
   "outputs": [],
   "source": [
    "last_ankle_position = None\n",
    "jump_threshold = 50 "
   ]
  },
  {
   "cell_type": "markdown",
   "metadata": {},
   "source": [
    "**Read video file using `cv2.VideoCapture(videopath)`**"
   ]
  },
  {
   "cell_type": "code",
   "execution_count": 5,
   "metadata": {},
   "outputs": [],
   "source": [
    "video_path = 'video_test.mov'\n",
    "video = cv2.VideoCapture(video_path)"
   ]
  },
  {
   "cell_type": "markdown",
   "metadata": {},
   "source": [
    "**Creating a normal CV2 window so that there is no automatic cropping and zoom-ins and create a variable to store the drawing/tracking utils from MediaPipe**"
   ]
  },
  {
   "cell_type": "code",
   "execution_count": 6,
   "metadata": {},
   "outputs": [],
   "source": [
    "cv2.namedWindow('Jump Detection', cv2.WINDOW_NORMAL)\n",
    "mp_drawing = mp.solutions.drawing_utils"
   ]
  },
  {
   "cell_type": "markdown",
   "metadata": {},
   "source": [
    "**Loop through frames**\n",
    "- Preprocess the video from BGR to RGB since cv2 only considers the input to be in (r,g,b) format.\n",
    "- Check if the Pose Landmark is found.\n",
    "- Declare and compute the Left and Right ankle via `results.pose_landmarks.landmark[mp_pose.PoseLandmark.LEFT_ANKLE]` and `results.pose_landmarks.landmark[mp_pose.PoseLandmark.RIGHT_ANKLE]`.\n",
    "- Check if the current frame is first frame or there are previous ankle positions to compare with.\n",
    "- Compute vertical displacement of **current** ankle positions and **previous** ankle positions.\n",
    "- If the difference is greater than the `jump_threshold` then `DETECTED` will be annotated the top right c corner of the frame in bright green colour.\n",
    "- Update last ankle position with the current y-coordinate of the left and right ankles for using in the next iteration.\n",
    "- Draw the body points to track the pose.\n",
    "- Repeat or break the loop when `q` is pressed. "
   ]
  },
  {
   "cell_type": "code",
   "execution_count": 7,
   "metadata": {},
   "outputs": [],
   "source": [
    "while video.isOpened():\n",
    "    \n",
    "    ret, frame = video.read()\n",
    "    if not ret:\n",
    "        break\n",
    "    frame = cv2.flip(frame, 1)\n",
    "    results = pose.process(cv2.cvtColor(frame, cv2.COLOR_BGR2RGB))\n",
    "\n",
    "    if results.pose_landmarks:\n",
    "        left_ankle = results.pose_landmarks.landmark[mp_pose.PoseLandmark.LEFT_ANKLE]\n",
    "        right_ankle = results.pose_landmarks.landmark[mp_pose.PoseLandmark.RIGHT_ANKLE]\n",
    "\n",
    "        if last_ankle_position is not None:\n",
    "            left_displacement = abs(left_ankle.y * frame.shape[0] - last_ankle_position[0])\n",
    "            right_displacement = abs(right_ankle.y * frame.shape[0] - last_ankle_position[1])\n",
    "\n",
    "            if left_displacement > jump_threshold or right_displacement > jump_threshold:\n",
    "                cv2.putText(frame, 'DETECTED', (frame.shape[1] - 700, 90), cv2.FONT_HERSHEY_DUPLEX, 4, (0, 255, 0), 10, cv2.LINE_AA)\n",
    "        last_ankle_position = (left_ankle.y * frame.shape[0], right_ankle.y * frame.shape[0])\n",
    "        mp_drawing.draw_landmarks(frame, results.pose_landmarks, mp_pose.POSE_CONNECTIONS)\n",
    "\n",
    "    cv2.imshow('Jump Detection', frame)\n",
    "\n",
    "\n",
    "    key = cv2.waitKey(1)\n",
    "    if key == ord('q'):\n",
    "        break"
   ]
  },
  {
   "cell_type": "markdown",
   "metadata": {},
   "source": [
    "**Release the `VideoCapture` object and destroy all the windows before the program exits**"
   ]
  },
  {
   "cell_type": "code",
   "execution_count": 8,
   "metadata": {},
   "outputs": [],
   "source": [
    "video.release()\n",
    "cv2.destroyAllWindows()"
   ]
  }
 ],
 "metadata": {
  "kernelspec": {
   "display_name": "Python 3",
   "language": "python",
   "name": "python3"
  },
  "language_info": {
   "codemirror_mode": {
    "name": "ipython",
    "version": 3
   },
   "file_extension": ".py",
   "mimetype": "text/x-python",
   "name": "python",
   "nbconvert_exporter": "python",
   "pygments_lexer": "ipython3",
   "version": "3.10.11"
  }
 },
 "nbformat": 4,
 "nbformat_minor": 2
}
